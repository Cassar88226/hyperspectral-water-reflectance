{
  "cells": [
    {
      "cell_type": "markdown",
      "metadata": {
        "id": "6hJWXDFriBoh"
      },
      "source": [
        "# TensorFlow Model for Chlorophyll-A and SPM Prediction from HYPSTAR Multispectral Imagery\n",
        "\n",
        "In this notebook, we implement a TensorFlow model for predicting Chlorophyll-A (g/m³) and Suspended Particulate Matter (SPM) (g/m³) from multispectral imagery obtained from the HYPSTAR sensor. This model aims to leverage the rich information embedded in the multispectral data to accurately estimate concentrations of Chlorophyll-A and SPM in the target environment.\n"
      ]
    },
    {
      "cell_type": "code",
      "execution_count": 1,
      "metadata": {
        "id": "x-YpK42iZK8u"
      },
      "outputs": [],
      "source": [
        "# importing all the necessary libraries\n",
        "import pandas as pd\n",
        "import numpy as np\n",
        "from sklearn.model_selection import train_test_split\n",
        "import tensorflow as tf\n",
        "from tensorflow.keras.models import Model\n",
        "from tensorflow.keras.layers import Input, Dense,Conv1D,Flatten\n",
        "from keras.callbacks import ModelCheckpoint\n",
        "from keras.optimizers import Adam\n",
        "from keras.models import load_model\n",
        "import random\n",
        "import matplotlib.pyplot as plt\n",
        "from sklearn.metrics import mean_squared_error,r2_score,mean_absolute_error"
      ]
    },
    {
      "cell_type": "markdown",
      "metadata": {
        "id": "Yb7kR_0pir0s"
      },
      "source": [
        "# Loading Data into Pandas DataFrames (DF)\n",
        "\n",
        "In this section, we load data into Pandas DataFrames for further analysis. Prior to loading, description rows were systematically removed from all CSV files using Microsoft Excel. This preprocessing step, completed in approximately five minutes, simplifies the subsequent loading process into DataFrames.\n",
        "\n",
        "This data preparation approach ensures a streamlined and efficient loading procedure, facilitating a more straightforward exploration and analysis of the datasets.\n"
      ]
    },
    {
      "cell_type": "code",
      "execution_count": 2,
      "metadata": {
        "id": "JWRauHwgZNnH"
      },
      "outputs": [],
      "source": [
        "#Dataframe for HYPSTAR imagery\n",
        "df_l2a = pd.read_csv(\"HYPSTAR_W_BSBE_L2A_REFL_20210203_20220803_v1.csv\", skiprows=17)"
      ]
    },
    {
      "cell_type": "code",
      "execution_count": 3,
      "metadata": {
        "id": "4JTZk6i1ZoF2"
      },
      "outputs": [],
      "source": [
        "#Dataframe for chlorophyll found by Ruddick paper\n",
        "df_chla_crat = pd.read_csv(\"HYPSTAR_W_BSBE_CHLA_CRAT_20210203_20220803_v1.csv\", skiprows=18)"
      ]
    },
    {
      "cell_type": "code",
      "execution_count": 4,
      "metadata": {
        "id": "MvR9wrGZazhh"
      },
      "outputs": [],
      "source": [
        "#Dataframe for chlorophyll found by Simis paper\n",
        "df_chla_simis = pd.read_csv(\"HYPSTAR_W_BSBE_CHLA_SIMIS_20210203_20220803_v1.csv\", skiprows=18)"
      ]
    },
    {
      "cell_type": "code",
      "execution_count": 5,
      "metadata": {
        "id": "Q-x7pLn3a1e5"
      },
      "outputs": [],
      "source": [
        "#Dataframe for spm700\n",
        "df_spm= pd.read_csv(\"HYPSTAR_W_BSBE_SPM_20210203_20220803_v1.csv\", skiprows=18)"
      ]
    },
    {
      "cell_type": "markdown",
      "metadata": {
        "id": "P_U3AJnVkhLf"
      },
      "source": [
        "# Preprocessing the data\n",
        "This step is necessary to input the data into the model."
      ]
    },
    {
      "cell_type": "code",
      "execution_count": 6,
      "metadata": {
        "id": "lFLkWnaCbu8l"
      },
      "outputs": [],
      "source": [
        "# Dropping the datetime column as it's not needed anymore\n",
        "X_data = df_l2a.drop(['DateTime'],axis = 1)"
      ]
    },
    {
      "cell_type": "markdown",
      "metadata": {
        "id": "BUCoYJMCkHCC"
      },
      "source": [
        "## Wavelength Limitation for Machine Learning Dataset\n",
        "\n",
        "The next cell contains code designed to prompt the user for input regarding the limitation of input wavelengths for a tensorflow model. The user is given the option to specify a range of wavelengths or proceed with the default settings.\n",
        "\n",
        "### Code Explanation\n",
        "\n",
        "1. **User Prompt:** The user is prompted to select whether they want to limit the input wavelengths to a specific range.\n",
        "\n",
        "2. **Options Display:** The available options for limiting wavelengths (Y) or proceeding with the default (N) are displayed.\n",
        "\n",
        "3. **Input and Processing:**\n",
        "   - If the user chooses to limit wavelengths:\n",
        "     - The lower and upper bounds of the wavelength range are obtained from the user.\n",
        "     - A message is displayed indicating the range being considered.\n",
        "     - Wavelengths within the specified range are identified and stored in `selected_columns`.\n",
        "     - If no wavelengths are found in the range, an error message is displayed.\n",
        "     - Otherwise, the dataset is updated to include only the selected columns, and a confirmation message is displayed.\n",
        "\n",
        "   - If the user chooses not to limit wavelengths:\n",
        "     - All columns in the original dataset (`X_data`) are considered, and the user is informed that the dataset will proceed without limitations.\n",
        "\n",
        "### Usage\n",
        "\n",
        "- Execute the cell to run the code.\n",
        "- Follow the prompts to choose whether to limit wavelengths and, if applicable, provide the lower and upper bounds.\n",
        "\n",
        "### Notes\n",
        "\n",
        "- Ensure that the dataset (`X_data`) is defined and accessible before executing this cell.\n",
        "- The resulting dataset (`X_data`) is updated based on the user's choice.\n",
        "\n"
      ]
    },
    {
      "cell_type": "code",
      "execution_count": 7,
      "metadata": {
        "colab": {
          "base_uri": "https://localhost:8080/"
        },
        "id": "Y5sA69zzFrd_",
        "outputId": "b3183cb6-857f-4d7b-df4f-d434d0e8dc08"
      },
      "outputs": [
        {
          "output_type": "stream",
          "name": "stdout",
          "text": [
            "Please select if you want to limit wavelengths to a specific range: \n",
            "Limiting: Y\n",
            "Default: Press any other key\n",
            "y\n",
            "Please enter the lower bound: 400\n",
            "Please enter the upper bound: 450\n",
            "Finding wavelengths between 400.0 and 450.0........\n",
            "Found 106 wavelengths\n",
            "Limited the dataset to 400.0 - 450.0\n"
          ]
        }
      ],
      "source": [
        "# Prompt the user to choose whether to limit wavelengths or not\n",
        "print(\"Please select if you want to limit wavelengths to a specific range: \")\n",
        "\n",
        "# Display options for limiting or not\n",
        "print(\"Limiting: Y\")\n",
        "print(\"Default: Press any other key\")\n",
        "\n",
        "# Initialize an empty list to store selected columns\n",
        "selected_columns = []\n",
        "\n",
        "# Get user input for their choice\n",
        "choice = input(\"\")\n",
        "\n",
        "# Check if the user wants to limit wavelengths\n",
        "if (choice.upper() == 'Y'):\n",
        "\n",
        "  # Get lower and upper bounds from the user\n",
        "  lower = float(input(\"Please enter the lower bound: \"))\n",
        "  upper = float(input(\"Please enter the upper bound: \"))\n",
        "\n",
        "  # Display a message indicating the range being considered\n",
        "  print(\"Finding wavelengths between {} and {}........\".format(lower, upper))\n",
        "\n",
        "  # Iterate through columns in the dataset\n",
        "  if lower and upper:\n",
        "    selected_columns = [col for col in X_data.columns if (float(col) >= lower and float(col) < upper)]\n",
        "\n",
        "  # Check if any wavelengths were found in the specified range\n",
        "  if not selected_columns:\n",
        "    print(\"Error! There is no wavelength in the specified range\")\n",
        "  else:\n",
        "    # Display the number of wavelengths found\n",
        "    print(\"Found {} wavelengths\".format(len(selected_columns)))\n",
        "\n",
        "    # Update the dataset to include only the selected columns\n",
        "    X_data = X_data[selected_columns]\n",
        "\n",
        "    # Display a message indicating the dataset has been limited\n",
        "    print(\"Limited the dataset to {} - {}\".format(lower, upper))\n",
        "\n",
        "else:\n",
        "  # If the user chooses not to limit, use all columns in the dataset\n",
        "  selected_columns = X_data.columns.to_list()\n",
        "  print(\"Going without limiting\")\n"
      ]
    },
    {
      "cell_type": "markdown",
      "metadata": {
        "id": "35VsL5ofk6Cb"
      },
      "source": [
        "## Data Preprocessing for Chlorophyll-A Predictions\n",
        "\n",
        "In the preprocessing step of our dataset, we address the presence of two types of Chlorophyll-A predictions in the input. To enhance the model's robustness, we take the average of these predictions and utilize it as the consolidated input for the machine learning model.\n",
        "\n",
        "Additionally, to create a comprehensive dataset, we integrate the Chlorophyll-A and SPM700 columns with the existing dataset, denoted as `X_data`.\n",
        "\n",
        "### Processing Steps\n",
        "\n",
        "1. **Chlorophyll-A Averaging:**\n",
        "   - Two distinct types of Chlorophyll-A predictions are present in our input.\n",
        "   - We calculate the average of these predictions to create a singular and more representative input for the machine learning model.\n",
        "\n",
        "2. **Dataset Integration:**\n",
        "   - The Chlorophyll-A and SPM700 columns are seamlessly combined with the existing dataset (`X_data`).\n",
        "   - This integration ensures that the dataset is comprehensive and includes all relevant features for model training.\n",
        "\n",
        "### Importance and Considerations\n",
        "\n",
        "- Averaging Chlorophyll-A predictions enhances the model's ability to generalize across different types of predictions.\n",
        "- The inclusion of Chlorophyll-A and SPM700 columns in the dataset provides a holistic set of features for the machine learning model."
      ]
    },
    {
      "cell_type": "code",
      "execution_count": 8,
      "metadata": {
        "id": "vIKfTEJmeS0V"
      },
      "outputs": [],
      "source": [
        "X_data['Chlorophyll-A'] =  (df_chla_crat['Chl_CratVC'] + df_chla_simis['Chl_SimisVC'] )/2 #Averaging the two Chlorophyll inputs and adding them to X_data\n",
        "X_data['SPM700'] = df_spm['SPM700'] # Adding SPM700 to X_data\n"
      ]
    },
    {
      "cell_type": "code",
      "execution_count": 9,
      "metadata": {
        "colab": {
          "base_uri": "https://localhost:8080/"
        },
        "id": "iskWPeOQezAu",
        "outputId": "5558792e-69cc-47ba-9e0c-48d4369826d8"
      },
      "outputs": [
        {
          "output_type": "execute_result",
          "data": {
            "text/plain": [
              "400.24            0\n",
              "400.71            0\n",
              "401.18            0\n",
              "401.65            0\n",
              "402.13            0\n",
              "                 ..\n",
              "449.03            0\n",
              "449.51            0\n",
              "449.98            0\n",
              "Chlorophyll-A    35\n",
              "SPM700            0\n",
              "Length: 108, dtype: int64"
            ]
          },
          "metadata": {},
          "execution_count": 9
        }
      ],
      "source": [
        "X_data.isna().sum() #Checking for null values, since the presence of null values can cause model to generate errors"
      ]
    },
    {
      "cell_type": "code",
      "execution_count": 10,
      "metadata": {
        "id": "ya7Ccoz7ezEH"
      },
      "outputs": [],
      "source": [
        "# We found 35 null values in chlorophyll A. So, we drop the rows with null values\n",
        "X_data = X_data.dropna()"
      ]
    },
    {
      "cell_type": "code",
      "execution_count": 11,
      "metadata": {
        "colab": {
          "base_uri": "https://localhost:8080/"
        },
        "id": "kNSJoIkceS3Z",
        "outputId": "90c94ff9-6960-4c7b-e931-7d28ee6c13e8"
      },
      "outputs": [
        {
          "output_type": "execute_result",
          "data": {
            "text/plain": [
              "0"
            ]
          },
          "metadata": {},
          "execution_count": 11
        }
      ],
      "source": [
        "#Checking if we still have any null values\n",
        "X_data.isna().sum().sum()"
      ]
    },
    {
      "cell_type": "code",
      "execution_count": 12,
      "metadata": {
        "id": "RgRdcTXrbXAg"
      },
      "outputs": [],
      "source": [
        "# So, there are no null values in our dataset\n",
        "\n",
        "#Now we need to set the ground truth and input for the model\n",
        "\n",
        "y = X_data[['Chlorophyll-A','SPM700']] # y is the groud truth for the model\n",
        "\n",
        "# X is just the hypstar bands that are going to be input into the model\n",
        "# So, we remove Chlorophyll A and SPM700 columns from X_data to get X\n",
        "X = X_data.drop(['Chlorophyll-A'],axis = 1)\n",
        "X = X.drop(['SPM700'],axis = 1)"
      ]
    },
    {
      "cell_type": "code",
      "execution_count": 13,
      "metadata": {
        "colab": {
          "base_uri": "https://localhost:8080/"
        },
        "id": "abO-OTRofYeA",
        "outputId": "6a038dd5-83b7-43b7-8221-717ea99914c2"
      },
      "outputs": [
        {
          "output_type": "execute_result",
          "data": {
            "text/plain": [
              "((2953, 2), (2953, 106))"
            ]
          },
          "metadata": {},
          "execution_count": 13
        }
      ],
      "source": [
        "# Printing the shapes of y and X. They should have the same number of rows\n",
        "y.shape,X.shape"
      ]
    },
    {
      "cell_type": "markdown",
      "metadata": {
        "id": "QSY8HVXWoYAz"
      },
      "source": [
        "##Splitting the data into train, test and val sets\n",
        "\n",
        "#### Note\n",
        "\n",
        "- \"random_state = 50\" ensures we get the same values in train, test and val sets everytime. This is important for reproducibility and consistent evaluation of the model"
      ]
    },
    {
      "cell_type": "code",
      "execution_count": 14,
      "metadata": {
        "id": "L3E_8Z7JcZGW"
      },
      "outputs": [],
      "source": [
        "X_train, X_test, y_train, y_test = train_test_split(X, y, test_size=0.15, random_state=50) # Test dataset = 15% of total dataset\n",
        "X_train, X_val, y_train, y_val = train_test_split(X_train, y_train, test_size=0.15, random_state=50) # Val dataset = 15% of train dataset\n"
      ]
    },
    {
      "cell_type": "markdown",
      "metadata": {
        "id": "5g9yOXoT-P94"
      },
      "source": [
        "## Data Normalization using Z-Score\n",
        "\n",
        "In this step, we perform Z-score normalization on all datasets. Z-score normalization involves subtracting each feature's mean across the training set and dividing it by its standard deviation in the training set. The objective is to standardize the features, bringing their mean to zero and standard deviation to 1.\n",
        "\n",
        "#### Methodology\n",
        "- **Z-Score Normalization:** Adjusting each feature to have zero mean and unit variance.\n",
        "- So, we calculate mean and std from the train set, perform the normalization and also save the mean and std for later use.\n",
        "\n",
        "#### Rationale\n",
        "Normalization plays a crucial role in enhancing training efficiency. By standardizing the features, we create a more conducive environment for model convergence and acceleration during the training process.\n"
      ]
    },
    {
      "cell_type": "code",
      "execution_count": 15,
      "metadata": {
        "id": "afNB5doi5-Xw"
      },
      "outputs": [],
      "source": [
        "# Calculate mean and std values\n",
        "mean = X_train.mean()\n",
        "std = X_train.std()\n"
      ]
    },
    {
      "cell_type": "code",
      "execution_count": 16,
      "metadata": {
        "id": "5jdJNo121-_R"
      },
      "outputs": [],
      "source": [
        "#Performing normalization on all the sets\n",
        "X_train = (X_train - mean)/std\n",
        "X_val = (X_val - mean)/std\n",
        "X_test = (X_test - mean)/std"
      ]
    },
    {
      "cell_type": "code",
      "execution_count": 17,
      "metadata": {
        "colab": {
          "base_uri": "https://localhost:8080/"
        },
        "id": "9NAa1E6h3zZv",
        "outputId": "68a72a91-985a-43dd-db2a-da5a649a82b0"
      },
      "outputs": [
        {
          "output_type": "execute_result",
          "data": {
            "text/plain": [
              "400.24    1.165916e-17\n",
              "400.71   -1.557331e-16\n",
              "401.18    6.412540e-17\n",
              "401.65   -5.829582e-17\n",
              "402.13    1.557331e-16\n",
              "              ...     \n",
              "448.08    2.581672e-17\n",
              "448.55   -2.306849e-16\n",
              "449.03    5.579743e-17\n",
              "449.51   -1.415756e-17\n",
              "449.98   -9.160771e-18\n",
              "Length: 106, dtype: float64"
            ]
          },
          "metadata": {},
          "execution_count": 17
        }
      ],
      "source": [
        "#Checking mean of trainset It should be close to 0\n",
        "X_train.mean()"
      ]
    },
    {
      "cell_type": "code",
      "execution_count": 18,
      "metadata": {
        "colab": {
          "base_uri": "https://localhost:8080/"
        },
        "id": "2M3eIET45-No",
        "outputId": "617a48c5-b3af-4d0f-e306-5c37c800ff7d"
      },
      "outputs": [
        {
          "output_type": "execute_result",
          "data": {
            "text/plain": [
              "400.24    1.0\n",
              "400.71    1.0\n",
              "401.18    1.0\n",
              "401.65    1.0\n",
              "402.13    1.0\n",
              "         ... \n",
              "448.08    1.0\n",
              "448.55    1.0\n",
              "449.03    1.0\n",
              "449.51    1.0\n",
              "449.98    1.0\n",
              "Length: 106, dtype: float64"
            ]
          },
          "metadata": {},
          "execution_count": 18
        }
      ],
      "source": [
        "#Checking std of trainset. It should be close to 1\n",
        "X_train.std()"
      ]
    },
    {
      "cell_type": "markdown",
      "metadata": {
        "id": "DL2QZULJqm__"
      },
      "source": [
        "# Hyperspectral Image Analysis Model for SPM700 and Chlorophyll A Prediction\n",
        "\n",
        "The model architecture is structured with parallel heads, each dedicated to predicting one of the parameters i.e. chlorophyll A and SPM.\n",
        "\n",
        "## Model Architecture Overview\n",
        "\n",
        "The model employs a 1D convolutional neural network (CNN) to extract intricate patterns and features from the input reflectance bands of the hyperspectral imagery. Both heads use an encoder-like architecture to compress the input progressively into the desired metric. The architecture consists of the following key components:\n",
        "\n",
        "### Parallel Head for Chlorophyll A Prediction (ch1)\n",
        "\n",
        "- **Input Layer:**\n",
        "  - Shape: (Number of Selected Reflectance Bands, 1)\n",
        "  - 1D convolutional layers require an additional dimension.\n",
        "\n",
        "- **Convolutional Layers (ch1):**\n",
        "  - Two sets of convolutional layers with 256 filters and two sets with 128 filters, each followed by leaky ReLU activation.\n",
        "  - These layers capture hierarchical features in the input reflectance bands.\n",
        "\n",
        "- **Flatten Layer (ch1):**\n",
        "  - Converts the output of the convolutional layers into a flat vector.\n",
        "\n",
        "- **Dense Layer (temp_ch1):**\n",
        "  - A fully connected layer with 10 units and leaky ReLU activation, further processing the flattened features.\n",
        "\n",
        "- **Output Layer (ch1):**\n",
        "  - A dense layer with a single unit and softplus activation, producing the final prediction for Chlorophyll A.\n",
        "\n",
        "### Parallel Head for SPM700 Prediction (spm)\n",
        "\n",
        "- **Convolutional Layers (spm):**\n",
        "  - One set with 256 filters, followed by one set with 128 filters, and a final set with 64 filters.\n",
        "  - Similar to the ch1 head, these layers capture hierarchical features for SPM700 prediction.\n",
        "\n",
        "- **Flatten Layer (spm):**\n",
        "  - Converts the output of the convolutional layers into a flat vector.\n",
        "\n",
        "- **Dense Layer (temp_spm):**\n",
        "  - A fully connected layer with 5 units and leaky ReLU activation, further processing the flattened features.\n",
        "\n",
        "- **Output Layer (spm):**\n",
        "  - A dense layer with a single unit and softplus activation, producing the final prediction for SPM700.\n",
        "\n",
        "## Model Training and Compilation\n",
        "\n",
        "The model is trained using the Adam optimizer, and the loss function is Mean Squared Error (MSE). The model is compiled with a custom loss weight configuration, assigning a higher weight (20 times) to the loss of the SPM700 prediction compared to the Chlorophyll A prediction. This is done because SPM loss is smaller in range compared to Chlorophyll  A loss. So, we don't want one loss to dominate the other.\n",
        "\n",
        "## Model Checkpointing\n",
        "\n",
        "To monitor the training process and save the best model, a ModelCheckpoint callback is employed. The best model is determined based on the validation loss, and it is saved to the specified file path.\n",
        "\n",
        "## Model Summary\n",
        "\n",
        "A summary of the model's architecture, including the number of parameters in each layer, is provided for a comprehensive overview of the model structure.\n",
        "\n"
      ]
    },
    {
      "cell_type": "code",
      "execution_count": 19,
      "metadata": {
        "colab": {
          "base_uri": "https://localhost:8080/"
        },
        "id": "uo55Hoq0cyUr",
        "outputId": "b5d8d729-14e6-4fff-c286-165171bde672"
      },
      "outputs": [
        {
          "output_type": "stream",
          "name": "stdout",
          "text": [
            "Model: \"model\"\n",
            "__________________________________________________________________________________________________\n",
            " Layer (type)                Output Shape                 Param #   Connected to                  \n",
            "==================================================================================================\n",
            " input_1 (InputLayer)        [(None, 106, 1)]             0         []                            \n",
            "                                                                                                  \n",
            " conv1d (Conv1D)             (None, 104, 256)             1024      ['input_1[0][0]']             \n",
            "                                                                                                  \n",
            " conv1d_4 (Conv1D)           (None, 104, 256)             1024      ['input_1[0][0]']             \n",
            "                                                                                                  \n",
            " conv1d_1 (Conv1D)           (None, 102, 256)             196864    ['conv1d[0][0]']              \n",
            "                                                                                                  \n",
            " conv1d_5 (Conv1D)           (None, 102, 128)             98432     ['conv1d_4[0][0]']            \n",
            "                                                                                                  \n",
            " conv1d_2 (Conv1D)           (None, 100, 128)             98432     ['conv1d_1[0][0]']            \n",
            "                                                                                                  \n",
            " conv1d_6 (Conv1D)           (None, 100, 128)             49280     ['conv1d_5[0][0]']            \n",
            "                                                                                                  \n",
            " conv1d_3 (Conv1D)           (None, 98, 128)              49280     ['conv1d_2[0][0]']            \n",
            "                                                                                                  \n",
            " conv1d_7 (Conv1D)           (None, 98, 64)               24640     ['conv1d_6[0][0]']            \n",
            "                                                                                                  \n",
            " flatten (Flatten)           (None, 12544)                0         ['conv1d_3[0][0]']            \n",
            "                                                                                                  \n",
            " flatten_1 (Flatten)         (None, 6272)                 0         ['conv1d_7[0][0]']            \n",
            "                                                                                                  \n",
            " temp_ch1 (Dense)            (None, 10)                   125450    ['flatten[0][0]']             \n",
            "                                                                                                  \n",
            " temp_spm (Dense)            (None, 5)                    31365     ['flatten_1[0][0]']           \n",
            "                                                                                                  \n",
            " ch1 (Dense)                 (None, 1)                    11        ['temp_ch1[0][0]']            \n",
            "                                                                                                  \n",
            " spm (Dense)                 (None, 1)                    6         ['temp_spm[0][0]']            \n",
            "                                                                                                  \n",
            "==================================================================================================\n",
            "Total params: 675808 (2.58 MB)\n",
            "Trainable params: 675808 (2.58 MB)\n",
            "Non-trainable params: 0 (0.00 Byte)\n",
            "__________________________________________________________________________________________________\n"
          ]
        }
      ],
      "source": [
        "# Define the input layer for hyperspectral reflectance bands\n",
        "input_layer = Input(shape=(len(selected_columns), 1))  # 1D convolutional layers require an additional dimension\n",
        "\n",
        "# Parallel Head for Chlorophyll A Prediction (ch1)\n",
        "conv_ch1_1 = Conv1D(256, kernel_size=3, activation='leaky_relu')(input_layer)\n",
        "conv_ch1_2 = Conv1D(256, kernel_size=3, activation='leaky_relu')(conv_ch1_1)\n",
        "conv_ch1_3 = Conv1D(128, kernel_size=3, activation='leaky_relu')(conv_ch1_2)\n",
        "conv_ch1_4 = Conv1D(128, kernel_size=3, activation='leaky_relu')(conv_ch1_3)\n",
        "flatten_ch1 = Flatten()(conv_ch1_4)\n",
        "temp_ch1 =  Dense(10, name='temp_ch1', activation='leaky_relu')(flatten_ch1)\n",
        "output1 = Dense(1, name='ch1', activation='softplus')(temp_ch1)  # Output for ch1\n",
        "\n",
        "# Parallel Head for SPM700 Prediction (spm)\n",
        "conv_spm_1 = Conv1D(256, kernel_size=3, activation='leaky_relu')(input_layer)\n",
        "conv_spm_2 = Conv1D(128, kernel_size=3, activation='leaky_relu')(conv_spm_1)\n",
        "conv_spm_3 = Conv1D(128, kernel_size=3, activation='leaky_relu')(conv_spm_2)\n",
        "conv_spm_4 = Conv1D(64, kernel_size=3, activation='leaky_relu')(conv_spm_3)\n",
        "flatten_spm = Flatten()(conv_spm_4)\n",
        "temp_spm =  Dense(5, name='temp_spm', activation='leaky_relu')(flatten_spm)\n",
        "output2 = Dense(1, name='spm', activation='softplus')(temp_spm)  # Output for spm\n",
        "\n",
        "# Combine inputs and outputs into a model\n",
        "model = Model(inputs=input_layer, outputs=[output1, output2])\n",
        "\n",
        "# Configure ModelCheckpoint callback to save the best model during training\n",
        "checkpoint = ModelCheckpoint(filepath='/content/drive/MyDrive/Colab Notebooks/HYPSTAR project/HYPSTARv2/best_model.h5',\n",
        "                             monitor='val_loss',  # Monitoring validation loss\n",
        "                             save_best_only=True,  # Save only the best model\n",
        "                             mode='min',  # 'min' for loss, 'max' for accuracy, 'auto' chooses automatically\n",
        "                             verbose=1)  # Print verbose output\n",
        "\n",
        "# Configure Adam optimizer for model compilation\n",
        "opt = Adam()\n",
        "\n",
        "# Compile the model with the custom loss function\n",
        "model.compile(optimizer=opt, loss='mse', loss_weights=[1, 20])  # Use MSE loss with custom weights\n",
        "\n",
        "# Print model summary (optional)\n",
        "model.summary()"
      ]
    },
    {
      "cell_type": "code",
      "execution_count": 20,
      "metadata": {
        "id": "Em6RElGYjWZG"
      },
      "outputs": [],
      "source": [
        "#Just converting y_train DF,y_val DF to numpy,since the model needs it in this format\n",
        "y_train_array = y_train.to_numpy()\n",
        "y_val_array = y_val.to_numpy()"
      ]
    },
    {
      "cell_type": "markdown",
      "metadata": {
        "id": "NJ3jDdFBsF8y"
      },
      "source": [
        "# Starting the training"
      ]
    },
    {
      "cell_type": "code",
      "execution_count": 23,
      "metadata": {
        "colab": {
          "base_uri": "https://localhost:8080/"
        },
        "id": "tFEoxFCRc1nS",
        "outputId": "274d77ac-dd4b-431c-bb84-158a392c75cd"
      },
      "outputs": [
        {
          "output_type": "stream",
          "name": "stdout",
          "text": [
            "Epoch 1/100\n",
            "34/34 [==============================] - ETA: 0s - loss: 694.7944 - ch1_loss: 629.8965 - spm_loss: 3.2449\n",
            "Epoch 1: val_loss did not improve from 575.27362\n",
            "34/34 [==============================] - 17s 496ms/step - loss: 694.7944 - ch1_loss: 629.8965 - spm_loss: 3.2449 - val_loss: 838.3884 - val_ch1_loss: 745.7893 - val_spm_loss: 4.6300\n",
            "Epoch 2/100\n",
            "34/34 [==============================] - ETA: 0s - loss: 842.5698 - ch1_loss: 775.1526 - spm_loss: 3.3709\n",
            "Epoch 2: val_loss improved from 575.27362 to 570.72693, saving model to /content/drive/MyDrive/Colab Notebooks/HYPSTAR project/HYPSTARv2/best_model.h5\n",
            "34/34 [==============================] - 17s 498ms/step - loss: 842.5698 - ch1_loss: 775.1526 - spm_loss: 3.3709 - val_loss: 570.7269 - val_ch1_loss: 508.8806 - val_spm_loss: 3.0923\n",
            "Epoch 3/100\n"
          ]
        },
        {
          "output_type": "stream",
          "name": "stderr",
          "text": [
            "/usr/local/lib/python3.10/dist-packages/keras/src/engine/training.py:3103: UserWarning: You are saving your model as an HDF5 file via `model.save()`. This file format is considered legacy. We recommend using instead the native Keras format, e.g. `model.save('my_model.keras')`.\n",
            "  saving_api.save_model(\n"
          ]
        },
        {
          "output_type": "stream",
          "name": "stdout",
          "text": [
            "34/34 [==============================] - ETA: 0s - loss: 741.9354 - ch1_loss: 684.3714 - spm_loss: 2.8782\n",
            "Epoch 3: val_loss improved from 570.72693 to 546.59381, saving model to /content/drive/MyDrive/Colab Notebooks/HYPSTAR project/HYPSTARv2/best_model.h5\n",
            "34/34 [==============================] - 17s 503ms/step - loss: 741.9354 - ch1_loss: 684.3714 - spm_loss: 2.8782 - val_loss: 546.5938 - val_ch1_loss: 484.8025 - val_spm_loss: 3.0896\n",
            "Epoch 4/100\n",
            "34/34 [==============================] - ETA: 0s - loss: 689.7124 - ch1_loss: 634.3860 - spm_loss: 2.7663\n",
            "Epoch 4: val_loss improved from 546.59381 to 514.27692, saving model to /content/drive/MyDrive/Colab Notebooks/HYPSTAR project/HYPSTARv2/best_model.h5\n",
            "34/34 [==============================] - 18s 526ms/step - loss: 689.7124 - ch1_loss: 634.3860 - spm_loss: 2.7663 - val_loss: 514.2769 - val_ch1_loss: 461.0128 - val_spm_loss: 2.6632\n",
            "Epoch 5/100\n",
            "34/34 [==============================] - ETA: 0s - loss: 659.0781 - ch1_loss: 602.4287 - spm_loss: 2.8325\n",
            "Epoch 5: val_loss did not improve from 514.27692\n",
            "34/34 [==============================] - 16s 474ms/step - loss: 659.0781 - ch1_loss: 602.4287 - spm_loss: 2.8325 - val_loss: 562.8791 - val_ch1_loss: 496.6076 - val_spm_loss: 3.3136\n",
            "Epoch 6/100\n",
            "34/34 [==============================] - ETA: 0s - loss: 738.5641 - ch1_loss: 685.7527 - spm_loss: 2.6406\n",
            "Epoch 6: val_loss did not improve from 514.27692\n",
            "34/34 [==============================] - 16s 478ms/step - loss: 738.5641 - ch1_loss: 685.7527 - spm_loss: 2.6406 - val_loss: 529.3018 - val_ch1_loss: 466.6379 - val_spm_loss: 3.1332\n",
            "Epoch 7/100\n",
            "34/34 [==============================] - ETA: 0s - loss: 645.1143 - ch1_loss: 595.4528 - spm_loss: 2.4831\n",
            "Epoch 7: val_loss did not improve from 514.27692\n",
            "34/34 [==============================] - 18s 526ms/step - loss: 645.1143 - ch1_loss: 595.4528 - spm_loss: 2.4831 - val_loss: 517.5356 - val_ch1_loss: 462.5904 - val_spm_loss: 2.7473\n",
            "Epoch 8/100\n",
            "34/34 [==============================] - ETA: 0s - loss: 654.0443 - ch1_loss: 608.0314 - spm_loss: 2.3006\n",
            "Epoch 8: val_loss did not improve from 514.27692\n",
            "34/34 [==============================] - 17s 503ms/step - loss: 654.0443 - ch1_loss: 608.0314 - spm_loss: 2.3006 - val_loss: 547.8569 - val_ch1_loss: 500.9846 - val_spm_loss: 2.3436\n",
            "Epoch 9/100\n",
            "34/34 [==============================] - ETA: 0s - loss: 645.8112 - ch1_loss: 595.8044 - spm_loss: 2.5003\n",
            "Epoch 9: val_loss improved from 514.27692 to 511.87173, saving model to /content/drive/MyDrive/Colab Notebooks/HYPSTAR project/HYPSTARv2/best_model.h5\n",
            "34/34 [==============================] - 16s 478ms/step - loss: 645.8112 - ch1_loss: 595.8044 - spm_loss: 2.5003 - val_loss: 511.8717 - val_ch1_loss: 452.4966 - val_spm_loss: 2.9688\n",
            "Epoch 10/100\n",
            "34/34 [==============================] - ETA: 0s - loss: 595.2356 - ch1_loss: 540.6168 - spm_loss: 2.7309\n",
            "Epoch 10: val_loss improved from 511.87173 to 472.71448, saving model to /content/drive/MyDrive/Colab Notebooks/HYPSTAR project/HYPSTARv2/best_model.h5\n",
            "34/34 [==============================] - 17s 496ms/step - loss: 595.2356 - ch1_loss: 540.6168 - spm_loss: 2.7309 - val_loss: 472.7145 - val_ch1_loss: 424.2694 - val_spm_loss: 2.4223\n",
            "Epoch 11/100\n",
            "34/34 [==============================] - ETA: 0s - loss: 567.1430 - ch1_loss: 518.7935 - spm_loss: 2.4175\n",
            "Epoch 11: val_loss did not improve from 472.71448\n",
            "34/34 [==============================] - 17s 506ms/step - loss: 567.1430 - ch1_loss: 518.7935 - spm_loss: 2.4175 - val_loss: 539.1461 - val_ch1_loss: 486.0421 - val_spm_loss: 2.6552\n",
            "Epoch 12/100\n",
            "34/34 [==============================] - ETA: 0s - loss: 595.4553 - ch1_loss: 548.6638 - spm_loss: 2.3396\n",
            "Epoch 12: val_loss did not improve from 472.71448\n",
            "34/34 [==============================] - 18s 514ms/step - loss: 595.4553 - ch1_loss: 548.6638 - spm_loss: 2.3396 - val_loss: 646.4894 - val_ch1_loss: 585.4831 - val_spm_loss: 3.0503\n",
            "Epoch 13/100\n",
            "34/34 [==============================] - ETA: 0s - loss: 538.8347 - ch1_loss: 493.0637 - spm_loss: 2.2886\n",
            "Epoch 13: val_loss improved from 472.71448 to 434.61108, saving model to /content/drive/MyDrive/Colab Notebooks/HYPSTAR project/HYPSTARv2/best_model.h5\n",
            "34/34 [==============================] - 17s 497ms/step - loss: 538.8347 - ch1_loss: 493.0637 - spm_loss: 2.2886 - val_loss: 434.6111 - val_ch1_loss: 389.1292 - val_spm_loss: 2.2741\n",
            "Epoch 14/100\n",
            "34/34 [==============================] - ETA: 0s - loss: 503.1474 - ch1_loss: 459.9742 - spm_loss: 2.1587\n",
            "Epoch 14: val_loss did not improve from 434.61108\n",
            "34/34 [==============================] - 17s 500ms/step - loss: 503.1474 - ch1_loss: 459.9742 - spm_loss: 2.1587 - val_loss: 444.2793 - val_ch1_loss: 394.3740 - val_spm_loss: 2.4953\n",
            "Epoch 15/100\n",
            "34/34 [==============================] - ETA: 0s - loss: 556.2559 - ch1_loss: 505.1135 - spm_loss: 2.5571\n",
            "Epoch 15: val_loss did not improve from 434.61108\n",
            "34/34 [==============================] - 16s 480ms/step - loss: 556.2559 - ch1_loss: 505.1135 - spm_loss: 2.5571 - val_loss: 542.1296 - val_ch1_loss: 484.4485 - val_spm_loss: 2.8841\n",
            "Epoch 16/100\n",
            "34/34 [==============================] - ETA: 0s - loss: 604.4915 - ch1_loss: 556.0566 - spm_loss: 2.4217\n",
            "Epoch 16: val_loss did not improve from 434.61108\n",
            "34/34 [==============================] - 17s 515ms/step - loss: 604.4915 - ch1_loss: 556.0566 - spm_loss: 2.4217 - val_loss: 476.6661 - val_ch1_loss: 422.4218 - val_spm_loss: 2.7122\n",
            "Epoch 17/100\n",
            "34/34 [==============================] - ETA: 0s - loss: 551.7586 - ch1_loss: 503.9238 - spm_loss: 2.3917\n",
            "Epoch 17: val_loss did not improve from 434.61108\n",
            "34/34 [==============================] - 17s 493ms/step - loss: 551.7586 - ch1_loss: 503.9238 - spm_loss: 2.3917 - val_loss: 444.7714 - val_ch1_loss: 401.1201 - val_spm_loss: 2.1826\n",
            "Epoch 18/100\n",
            "34/34 [==============================] - ETA: 0s - loss: 508.1119 - ch1_loss: 467.9943 - spm_loss: 2.0059\n",
            "Epoch 18: val_loss did not improve from 434.61108\n",
            "34/34 [==============================] - 17s 495ms/step - loss: 508.1119 - ch1_loss: 467.9943 - spm_loss: 2.0059 - val_loss: 440.5759 - val_ch1_loss: 392.4831 - val_spm_loss: 2.4046\n",
            "Epoch 19/100\n",
            "34/34 [==============================] - ETA: 0s - loss: 500.7468 - ch1_loss: 455.9332 - spm_loss: 2.2407\n",
            "Epoch 19: val_loss improved from 434.61108 to 414.01459, saving model to /content/drive/MyDrive/Colab Notebooks/HYPSTAR project/HYPSTARv2/best_model.h5\n",
            "34/34 [==============================] - 16s 478ms/step - loss: 500.7468 - ch1_loss: 455.9332 - spm_loss: 2.2407 - val_loss: 414.0146 - val_ch1_loss: 374.2526 - val_spm_loss: 1.9881\n",
            "Epoch 20/100\n",
            "34/34 [==============================] - ETA: 0s - loss: 494.5202 - ch1_loss: 453.1834 - spm_loss: 2.0668\n",
            "Epoch 20: val_loss did not improve from 414.01459\n",
            "34/34 [==============================] - 17s 517ms/step - loss: 494.5202 - ch1_loss: 453.1834 - spm_loss: 2.0668 - val_loss: 443.8405 - val_ch1_loss: 383.2806 - val_spm_loss: 3.0280\n",
            "Epoch 21/100\n",
            "34/34 [==============================] - ETA: 0s - loss: 508.7410 - ch1_loss: 468.8221 - spm_loss: 1.9959\n",
            "Epoch 21: val_loss improved from 414.01459 to 388.79874, saving model to /content/drive/MyDrive/Colab Notebooks/HYPSTAR project/HYPSTARv2/best_model.h5\n",
            "34/34 [==============================] - 17s 502ms/step - loss: 508.7410 - ch1_loss: 468.8221 - spm_loss: 1.9959 - val_loss: 388.7987 - val_ch1_loss: 346.6071 - val_spm_loss: 2.1096\n",
            "Epoch 22/100\n",
            "34/34 [==============================] - ETA: 0s - loss: 463.9744 - ch1_loss: 424.6669 - spm_loss: 1.9654\n",
            "Epoch 22: val_loss did not improve from 388.79874\n",
            "34/34 [==============================] - 16s 476ms/step - loss: 463.9744 - ch1_loss: 424.6669 - spm_loss: 1.9654 - val_loss: 448.7762 - val_ch1_loss: 408.0632 - val_spm_loss: 2.0356\n",
            "Epoch 23/100\n",
            "34/34 [==============================] - ETA: 0s - loss: 488.4595 - ch1_loss: 446.5641 - spm_loss: 2.0948\n",
            "Epoch 23: val_loss did not improve from 388.79874\n",
            "34/34 [==============================] - 17s 492ms/step - loss: 488.4595 - ch1_loss: 446.5641 - spm_loss: 2.0948 - val_loss: 429.7161 - val_ch1_loss: 383.1509 - val_spm_loss: 2.3283\n",
            "Epoch 24/100\n",
            "34/34 [==============================] - ETA: 0s - loss: 493.1409 - ch1_loss: 446.6492 - spm_loss: 2.3246\n",
            "Epoch 24: val_loss did not improve from 388.79874\n",
            "34/34 [==============================] - 17s 498ms/step - loss: 493.1409 - ch1_loss: 446.6492 - spm_loss: 2.3246 - val_loss: 425.4439 - val_ch1_loss: 378.9870 - val_spm_loss: 2.3228\n",
            "Epoch 25/100\n",
            "34/34 [==============================] - ETA: 0s - loss: 480.7657 - ch1_loss: 436.3067 - spm_loss: 2.2229\n",
            "Epoch 25: val_loss did not improve from 388.79874\n",
            "34/34 [==============================] - 17s 504ms/step - loss: 480.7657 - ch1_loss: 436.3067 - spm_loss: 2.2229 - val_loss: 403.9768 - val_ch1_loss: 341.2696 - val_spm_loss: 3.1354\n",
            "Epoch 26/100\n",
            "34/34 [==============================] - ETA: 0s - loss: 544.1647 - ch1_loss: 501.6273 - spm_loss: 2.1269\n",
            "Epoch 26: val_loss improved from 388.79874 to 385.47324, saving model to /content/drive/MyDrive/Colab Notebooks/HYPSTAR project/HYPSTARv2/best_model.h5\n",
            "34/34 [==============================] - 17s 491ms/step - loss: 544.1647 - ch1_loss: 501.6273 - spm_loss: 2.1269 - val_loss: 385.4732 - val_ch1_loss: 348.5845 - val_spm_loss: 1.8444\n",
            "Epoch 27/100\n",
            "34/34 [==============================] - ETA: 0s - loss: 479.6146 - ch1_loss: 438.8944 - spm_loss: 2.0360\n",
            "Epoch 27: val_loss did not improve from 385.47324\n",
            "34/34 [==============================] - 16s 475ms/step - loss: 479.6146 - ch1_loss: 438.8944 - spm_loss: 2.0360 - val_loss: 440.6902 - val_ch1_loss: 386.9355 - val_spm_loss: 2.6877\n",
            "Epoch 28/100\n",
            "34/34 [==============================] - ETA: 0s - loss: 521.8954 - ch1_loss: 480.3184 - spm_loss: 2.0788\n",
            "Epoch 28: val_loss improved from 385.47324 to 377.87823, saving model to /content/drive/MyDrive/Colab Notebooks/HYPSTAR project/HYPSTARv2/best_model.h5\n",
            "34/34 [==============================] - 17s 500ms/step - loss: 521.8954 - ch1_loss: 480.3184 - spm_loss: 2.0788 - val_loss: 377.8782 - val_ch1_loss: 337.5037 - val_spm_loss: 2.0187\n",
            "Epoch 29/100\n",
            "34/34 [==============================] - ETA: 0s - loss: 457.1089 - ch1_loss: 416.1443 - spm_loss: 2.0482\n",
            "Epoch 29: val_loss did not improve from 377.87823\n",
            "34/34 [==============================] - 17s 510ms/step - loss: 457.1089 - ch1_loss: 416.1443 - spm_loss: 2.0482 - val_loss: 412.2935 - val_ch1_loss: 359.5177 - val_spm_loss: 2.6388\n",
            "Epoch 30/100\n",
            "34/34 [==============================] - ETA: 0s - loss: 440.7872 - ch1_loss: 399.2574 - spm_loss: 2.0765\n",
            "Epoch 30: val_loss did not improve from 377.87823\n",
            "34/34 [==============================] - 16s 478ms/step - loss: 440.7872 - ch1_loss: 399.2574 - spm_loss: 2.0765 - val_loss: 418.0565 - val_ch1_loss: 368.5115 - val_spm_loss: 2.4772\n",
            "Epoch 31/100\n",
            "34/34 [==============================] - ETA: 0s - loss: 455.5628 - ch1_loss: 417.0340 - spm_loss: 1.9264\n",
            "Epoch 31: val_loss did not improve from 377.87823\n",
            "34/34 [==============================] - 17s 492ms/step - loss: 455.5628 - ch1_loss: 417.0340 - spm_loss: 1.9264 - val_loss: 382.5396 - val_ch1_loss: 336.7694 - val_spm_loss: 2.2885\n",
            "Epoch 32/100\n",
            "34/34 [==============================] - ETA: 0s - loss: 467.1799 - ch1_loss: 431.0640 - spm_loss: 1.8058\n",
            "Epoch 32: val_loss did not improve from 377.87823\n",
            "34/34 [==============================] - 17s 498ms/step - loss: 467.1799 - ch1_loss: 431.0640 - spm_loss: 1.8058 - val_loss: 409.3775 - val_ch1_loss: 351.4319 - val_spm_loss: 2.8973\n",
            "Epoch 33/100\n",
            "34/34 [==============================] - ETA: 0s - loss: 450.3025 - ch1_loss: 406.9054 - spm_loss: 2.1699\n",
            "Epoch 33: val_loss improved from 377.87823 to 355.48380, saving model to /content/drive/MyDrive/Colab Notebooks/HYPSTAR project/HYPSTARv2/best_model.h5\n",
            "34/34 [==============================] - 17s 509ms/step - loss: 450.3025 - ch1_loss: 406.9054 - spm_loss: 2.1699 - val_loss: 355.4838 - val_ch1_loss: 304.7847 - val_spm_loss: 2.5350\n",
            "Epoch 34/100\n",
            "34/34 [==============================] - ETA: 0s - loss: 445.7745 - ch1_loss: 408.4395 - spm_loss: 1.8667\n",
            "Epoch 34: val_loss did not improve from 355.48380\n",
            "34/34 [==============================] - 17s 492ms/step - loss: 445.7745 - ch1_loss: 408.4395 - spm_loss: 1.8667 - val_loss: 367.3409 - val_ch1_loss: 328.1810 - val_spm_loss: 1.9580\n",
            "Epoch 35/100\n",
            "34/34 [==============================] - ETA: 0s - loss: 436.0979 - ch1_loss: 395.9118 - spm_loss: 2.0093\n",
            "Epoch 35: val_loss did not improve from 355.48380\n",
            "34/34 [==============================] - 17s 494ms/step - loss: 436.0979 - ch1_loss: 395.9118 - spm_loss: 2.0093 - val_loss: 383.2333 - val_ch1_loss: 326.4230 - val_spm_loss: 2.8405\n",
            "Epoch 36/100\n",
            "34/34 [==============================] - ETA: 0s - loss: 454.4138 - ch1_loss: 413.8787 - spm_loss: 2.0268\n",
            "Epoch 36: val_loss did not improve from 355.48380\n",
            "34/34 [==============================] - 17s 500ms/step - loss: 454.4138 - ch1_loss: 413.8787 - spm_loss: 2.0268 - val_loss: 369.6122 - val_ch1_loss: 324.9133 - val_spm_loss: 2.2349\n",
            "Epoch 37/100\n",
            "34/34 [==============================] - ETA: 0s - loss: 452.1874 - ch1_loss: 416.9443 - spm_loss: 1.7622\n",
            "Epoch 37: val_loss did not improve from 355.48380\n",
            "34/34 [==============================] - 17s 501ms/step - loss: 452.1874 - ch1_loss: 416.9443 - spm_loss: 1.7622 - val_loss: 371.7920 - val_ch1_loss: 318.4821 - val_spm_loss: 2.6655\n",
            "Epoch 38/100\n",
            "34/34 [==============================] - ETA: 0s - loss: 439.1864 - ch1_loss: 401.5152 - spm_loss: 1.8836\n",
            "Epoch 38: val_loss did not improve from 355.48380\n",
            "34/34 [==============================] - 17s 487ms/step - loss: 439.1864 - ch1_loss: 401.5152 - spm_loss: 1.8836 - val_loss: 431.2247 - val_ch1_loss: 390.0875 - val_spm_loss: 2.0569\n",
            "Epoch 39/100\n",
            "34/34 [==============================] - ETA: 0s - loss: 448.6746 - ch1_loss: 412.2657 - spm_loss: 1.8205\n",
            "Epoch 39: val_loss did not improve from 355.48380\n",
            "34/34 [==============================] - 17s 496ms/step - loss: 448.6746 - ch1_loss: 412.2657 - spm_loss: 1.8205 - val_loss: 382.2495 - val_ch1_loss: 345.4585 - val_spm_loss: 1.8396\n",
            "Epoch 40/100\n",
            "34/34 [==============================] - ETA: 0s - loss: 447.3450 - ch1_loss: 409.6570 - spm_loss: 1.8844\n",
            "Epoch 40: val_loss did not improve from 355.48380\n",
            "34/34 [==============================] - 17s 494ms/step - loss: 447.3450 - ch1_loss: 409.6570 - spm_loss: 1.8844 - val_loss: 398.2197 - val_ch1_loss: 352.4504 - val_spm_loss: 2.2885\n",
            "Epoch 41/100\n",
            "34/34 [==============================] - ETA: 0s - loss: 444.4867 - ch1_loss: 405.2309 - spm_loss: 1.9628\n",
            "Epoch 41: val_loss did not improve from 355.48380\n",
            "34/34 [==============================] - 17s 509ms/step - loss: 444.4867 - ch1_loss: 405.2309 - spm_loss: 1.9628 - val_loss: 386.2411 - val_ch1_loss: 347.1600 - val_spm_loss: 1.9541\n",
            "Epoch 42/100\n",
            "34/34 [==============================] - ETA: 0s - loss: 418.4511 - ch1_loss: 383.0018 - spm_loss: 1.7725\n",
            "Epoch 42: val_loss improved from 355.48380 to 350.01468, saving model to /content/drive/MyDrive/Colab Notebooks/HYPSTAR project/HYPSTARv2/best_model.h5\n",
            "34/34 [==============================] - 16s 479ms/step - loss: 418.4511 - ch1_loss: 383.0018 - spm_loss: 1.7725 - val_loss: 350.0147 - val_ch1_loss: 309.8245 - val_spm_loss: 2.0095\n",
            "Epoch 43/100\n",
            "34/34 [==============================] - ETA: 0s - loss: 423.6718 - ch1_loss: 383.3699 - spm_loss: 2.0151\n",
            "Epoch 43: val_loss did not improve from 350.01468\n",
            "34/34 [==============================] - 17s 488ms/step - loss: 423.6718 - ch1_loss: 383.3699 - spm_loss: 2.0151 - val_loss: 427.4346 - val_ch1_loss: 379.5304 - val_spm_loss: 2.3952\n",
            "Epoch 44/100\n",
            "34/34 [==============================] - ETA: 0s - loss: 466.6247 - ch1_loss: 426.4877 - spm_loss: 2.0069\n",
            "Epoch 44: val_loss did not improve from 350.01468\n",
            "34/34 [==============================] - 17s 488ms/step - loss: 466.6247 - ch1_loss: 426.4877 - spm_loss: 2.0069 - val_loss: 447.9118 - val_ch1_loss: 405.7861 - val_spm_loss: 2.1063\n",
            "Epoch 45/100\n",
            "34/34 [==============================] - ETA: 0s - loss: 463.3542 - ch1_loss: 418.2567 - spm_loss: 2.2549\n",
            "Epoch 45: val_loss did not improve from 350.01468\n",
            "34/34 [==============================] - 17s 493ms/step - loss: 463.3542 - ch1_loss: 418.2567 - spm_loss: 2.2549 - val_loss: 353.7555 - val_ch1_loss: 313.7518 - val_spm_loss: 2.0002\n",
            "Epoch 46/100\n",
            "34/34 [==============================] - ETA: 0s - loss: 475.3277 - ch1_loss: 437.3511 - spm_loss: 1.8988\n",
            "Epoch 46: val_loss did not improve from 350.01468\n",
            "34/34 [==============================] - 17s 495ms/step - loss: 475.3277 - ch1_loss: 437.3511 - spm_loss: 1.8988 - val_loss: 405.7244 - val_ch1_loss: 362.3146 - val_spm_loss: 2.1705\n",
            "Epoch 47/100\n",
            "34/34 [==============================] - ETA: 0s - loss: 455.2762 - ch1_loss: 416.3382 - spm_loss: 1.9469\n",
            "Epoch 47: val_loss did not improve from 350.01468\n",
            "34/34 [==============================] - 16s 473ms/step - loss: 455.2762 - ch1_loss: 416.3382 - spm_loss: 1.9469 - val_loss: 403.4334 - val_ch1_loss: 363.1212 - val_spm_loss: 2.0156\n",
            "Epoch 48/100\n",
            "34/34 [==============================] - ETA: 0s - loss: 459.7780 - ch1_loss: 418.9891 - spm_loss: 2.0394\n",
            "Epoch 48: val_loss did not improve from 350.01468\n",
            "34/34 [==============================] - 16s 479ms/step - loss: 459.7780 - ch1_loss: 418.9891 - spm_loss: 2.0394 - val_loss: 371.6357 - val_ch1_loss: 321.9342 - val_spm_loss: 2.4851\n",
            "Epoch 49/100\n",
            "34/34 [==============================] - ETA: 0s - loss: 437.1250 - ch1_loss: 399.5131 - spm_loss: 1.8806\n",
            "Epoch 49: val_loss did not improve from 350.01468\n",
            "34/34 [==============================] - 17s 507ms/step - loss: 437.1250 - ch1_loss: 399.5131 - spm_loss: 1.8806 - val_loss: 352.6132 - val_ch1_loss: 308.4919 - val_spm_loss: 2.2061\n",
            "Epoch 50/100\n",
            "34/34 [==============================] - ETA: 0s - loss: 405.2553 - ch1_loss: 366.7219 - spm_loss: 1.9267\n",
            "Epoch 50: val_loss improved from 350.01468 to 344.85077, saving model to /content/drive/MyDrive/Colab Notebooks/HYPSTAR project/HYPSTARv2/best_model.h5\n",
            "34/34 [==============================] - 17s 500ms/step - loss: 405.2553 - ch1_loss: 366.7219 - spm_loss: 1.9267 - val_loss: 344.8508 - val_ch1_loss: 302.0223 - val_spm_loss: 2.1414\n",
            "Epoch 51/100\n",
            "34/34 [==============================] - ETA: 0s - loss: 456.4720 - ch1_loss: 419.3377 - spm_loss: 1.8567\n",
            "Epoch 51: val_loss improved from 344.85077 to 331.43082, saving model to /content/drive/MyDrive/Colab Notebooks/HYPSTAR project/HYPSTARv2/best_model.h5\n",
            "34/34 [==============================] - 17s 492ms/step - loss: 456.4720 - ch1_loss: 419.3377 - spm_loss: 1.8567 - val_loss: 331.4308 - val_ch1_loss: 296.6883 - val_spm_loss: 1.7371\n",
            "Epoch 52/100\n",
            "34/34 [==============================] - ETA: 0s - loss: 422.8748 - ch1_loss: 378.4688 - spm_loss: 2.2203\n",
            "Epoch 52: val_loss did not improve from 331.43082\n",
            "34/34 [==============================] - 17s 490ms/step - loss: 422.8748 - ch1_loss: 378.4688 - spm_loss: 2.2203 - val_loss: 368.9621 - val_ch1_loss: 320.3662 - val_spm_loss: 2.4298\n",
            "Epoch 53/100\n",
            "34/34 [==============================] - ETA: 0s - loss: 413.5045 - ch1_loss: 376.9758 - spm_loss: 1.8264\n",
            "Epoch 53: val_loss did not improve from 331.43082\n",
            "34/34 [==============================] - 17s 507ms/step - loss: 413.5045 - ch1_loss: 376.9758 - spm_loss: 1.8264 - val_loss: 384.8139 - val_ch1_loss: 322.7212 - val_spm_loss: 3.1046\n",
            "Epoch 54/100\n",
            "34/34 [==============================] - ETA: 0s - loss: 445.8196 - ch1_loss: 409.9353 - spm_loss: 1.7942\n",
            "Epoch 54: val_loss did not improve from 331.43082\n",
            "34/34 [==============================] - 17s 480ms/step - loss: 445.8196 - ch1_loss: 409.9353 - spm_loss: 1.7942 - val_loss: 454.0991 - val_ch1_loss: 417.1886 - val_spm_loss: 1.8455\n",
            "Epoch 55/100\n",
            "34/34 [==============================] - ETA: 0s - loss: 469.4104 - ch1_loss: 435.2224 - spm_loss: 1.7094\n",
            "Epoch 55: val_loss did not improve from 331.43082\n",
            "34/34 [==============================] - 17s 492ms/step - loss: 469.4104 - ch1_loss: 435.2224 - spm_loss: 1.7094 - val_loss: 368.9026 - val_ch1_loss: 328.5098 - val_spm_loss: 2.0196\n",
            "Epoch 56/100\n",
            "34/34 [==============================] - ETA: 0s - loss: 401.0091 - ch1_loss: 367.1111 - spm_loss: 1.6949\n",
            "Epoch 56: val_loss did not improve from 331.43082\n",
            "34/34 [==============================] - 17s 496ms/step - loss: 401.0091 - ch1_loss: 367.1111 - spm_loss: 1.6949 - val_loss: 338.3000 - val_ch1_loss: 293.6476 - val_spm_loss: 2.2326\n",
            "Epoch 57/100\n",
            "34/34 [==============================] - ETA: 0s - loss: 412.7926 - ch1_loss: 371.0866 - spm_loss: 2.0853\n",
            "Epoch 57: val_loss improved from 331.43082 to 327.30054, saving model to /content/drive/MyDrive/Colab Notebooks/HYPSTAR project/HYPSTARv2/best_model.h5\n",
            "34/34 [==============================] - 17s 500ms/step - loss: 412.7926 - ch1_loss: 371.0866 - spm_loss: 2.0853 - val_loss: 327.3005 - val_ch1_loss: 288.7578 - val_spm_loss: 1.9271\n",
            "Epoch 58/100\n",
            "34/34 [==============================] - ETA: 0s - loss: 401.2792 - ch1_loss: 368.1339 - spm_loss: 1.6573\n",
            "Epoch 58: val_loss did not improve from 327.30054\n",
            "34/34 [==============================] - 17s 503ms/step - loss: 401.2792 - ch1_loss: 368.1339 - spm_loss: 1.6573 - val_loss: 339.6661 - val_ch1_loss: 303.7849 - val_spm_loss: 1.7941\n",
            "Epoch 59/100\n",
            "34/34 [==============================] - ETA: 0s - loss: 406.7328 - ch1_loss: 371.8322 - spm_loss: 1.7450\n",
            "Epoch 59: val_loss did not improve from 327.30054\n",
            "34/34 [==============================] - 16s 472ms/step - loss: 406.7328 - ch1_loss: 371.8322 - spm_loss: 1.7450 - val_loss: 350.6149 - val_ch1_loss: 314.8838 - val_spm_loss: 1.7866\n",
            "Epoch 60/100\n",
            "34/34 [==============================] - ETA: 0s - loss: 423.4042 - ch1_loss: 390.9197 - spm_loss: 1.6242\n",
            "Epoch 60: val_loss did not improve from 327.30054\n",
            "34/34 [==============================] - 17s 491ms/step - loss: 423.4042 - ch1_loss: 390.9197 - spm_loss: 1.6242 - val_loss: 370.6692 - val_ch1_loss: 325.1714 - val_spm_loss: 2.2749\n",
            "Epoch 61/100\n",
            "34/34 [==============================] - ETA: 0s - loss: 449.6515 - ch1_loss: 414.5202 - spm_loss: 1.7566\n",
            "Epoch 61: val_loss did not improve from 327.30054\n",
            "34/34 [==============================] - 16s 471ms/step - loss: 449.6515 - ch1_loss: 414.5202 - spm_loss: 1.7566 - val_loss: 346.3079 - val_ch1_loss: 298.9865 - val_spm_loss: 2.3661\n",
            "Epoch 62/100\n",
            "34/34 [==============================] - ETA: 0s - loss: 415.7325 - ch1_loss: 379.1025 - spm_loss: 1.8315\n",
            "Epoch 62: val_loss did not improve from 327.30054\n",
            "34/34 [==============================] - 18s 514ms/step - loss: 415.7325 - ch1_loss: 379.1025 - spm_loss: 1.8315 - val_loss: 403.5743 - val_ch1_loss: 362.1343 - val_spm_loss: 2.0720\n",
            "Epoch 63/100\n",
            "34/34 [==============================] - ETA: 0s - loss: 392.2096 - ch1_loss: 358.7599 - spm_loss: 1.6725\n",
            "Epoch 63: val_loss did not improve from 327.30054\n",
            "34/34 [==============================] - 16s 465ms/step - loss: 392.2096 - ch1_loss: 358.7599 - spm_loss: 1.6725 - val_loss: 379.7415 - val_ch1_loss: 338.6449 - val_spm_loss: 2.0548\n",
            "Epoch 64/100\n",
            "34/34 [==============================] - ETA: 0s - loss: 447.9581 - ch1_loss: 416.3764 - spm_loss: 1.5791\n",
            "Epoch 64: val_loss did not improve from 327.30054\n",
            "34/34 [==============================] - 16s 479ms/step - loss: 447.9581 - ch1_loss: 416.3764 - spm_loss: 1.5791 - val_loss: 386.3420 - val_ch1_loss: 340.3349 - val_spm_loss: 2.3004\n",
            "Epoch 65/100\n",
            "34/34 [==============================] - ETA: 0s - loss: 408.1647 - ch1_loss: 377.2085 - spm_loss: 1.5478\n",
            "Epoch 65: val_loss improved from 327.30054 to 320.24637, saving model to /content/drive/MyDrive/Colab Notebooks/HYPSTAR project/HYPSTARv2/best_model.h5\n",
            "34/34 [==============================] - 17s 499ms/step - loss: 408.1647 - ch1_loss: 377.2085 - spm_loss: 1.5478 - val_loss: 320.2464 - val_ch1_loss: 283.7546 - val_spm_loss: 1.8246\n",
            "Epoch 66/100\n",
            "34/34 [==============================] - ETA: 0s - loss: 396.5343 - ch1_loss: 367.0172 - spm_loss: 1.4759\n",
            "Epoch 66: val_loss did not improve from 320.24637\n",
            "34/34 [==============================] - 17s 501ms/step - loss: 396.5343 - ch1_loss: 367.0172 - spm_loss: 1.4759 - val_loss: 336.9572 - val_ch1_loss: 299.3450 - val_spm_loss: 1.8806\n",
            "Epoch 67/100\n",
            "34/34 [==============================] - ETA: 0s - loss: 442.7496 - ch1_loss: 412.1161 - spm_loss: 1.5317\n",
            "Epoch 67: val_loss did not improve from 320.24637\n",
            "34/34 [==============================] - 17s 505ms/step - loss: 442.7496 - ch1_loss: 412.1161 - spm_loss: 1.5317 - val_loss: 435.7637 - val_ch1_loss: 390.2699 - val_spm_loss: 2.2747\n",
            "Epoch 68/100\n",
            "34/34 [==============================] - ETA: 0s - loss: 392.0609 - ch1_loss: 360.2707 - spm_loss: 1.5895\n",
            "Epoch 68: val_loss improved from 320.24637 to 315.14105, saving model to /content/drive/MyDrive/Colab Notebooks/HYPSTAR project/HYPSTARv2/best_model.h5\n",
            "34/34 [==============================] - 16s 481ms/step - loss: 392.0609 - ch1_loss: 360.2707 - spm_loss: 1.5895 - val_loss: 315.1411 - val_ch1_loss: 276.5750 - val_spm_loss: 1.9283\n",
            "Epoch 69/100\n",
            "34/34 [==============================] - ETA: 0s - loss: 413.7664 - ch1_loss: 381.1524 - spm_loss: 1.6307\n",
            "Epoch 69: val_loss did not improve from 315.14105\n",
            "34/34 [==============================] - 17s 494ms/step - loss: 413.7664 - ch1_loss: 381.1524 - spm_loss: 1.6307 - val_loss: 384.5814 - val_ch1_loss: 333.6465 - val_spm_loss: 2.5467\n",
            "Epoch 70/100\n",
            "34/34 [==============================] - ETA: 0s - loss: 376.9212 - ch1_loss: 344.7937 - spm_loss: 1.6064\n",
            "Epoch 70: val_loss did not improve from 315.14105\n",
            "34/34 [==============================] - 17s 496ms/step - loss: 376.9212 - ch1_loss: 344.7937 - spm_loss: 1.6064 - val_loss: 321.5783 - val_ch1_loss: 282.1977 - val_spm_loss: 1.9690\n",
            "Epoch 71/100\n",
            "34/34 [==============================] - ETA: 0s - loss: 368.9518 - ch1_loss: 338.4323 - spm_loss: 1.5260\n",
            "Epoch 71: val_loss did not improve from 315.14105\n",
            "34/34 [==============================] - 17s 509ms/step - loss: 368.9518 - ch1_loss: 338.4323 - spm_loss: 1.5260 - val_loss: 335.7805 - val_ch1_loss: 300.2135 - val_spm_loss: 1.7784\n",
            "Epoch 72/100\n",
            "34/34 [==============================] - ETA: 0s - loss: 419.0219 - ch1_loss: 389.0292 - spm_loss: 1.4996\n",
            "Epoch 72: val_loss did not improve from 315.14105\n",
            "34/34 [==============================] - 17s 490ms/step - loss: 419.0219 - ch1_loss: 389.0292 - spm_loss: 1.4996 - val_loss: 419.3793 - val_ch1_loss: 383.6256 - val_spm_loss: 1.7877\n",
            "Epoch 73/100\n",
            "34/34 [==============================] - ETA: 0s - loss: 418.6516 - ch1_loss: 387.4388 - spm_loss: 1.5606\n",
            "Epoch 73: val_loss did not improve from 315.14105\n",
            "34/34 [==============================] - 17s 493ms/step - loss: 418.6516 - ch1_loss: 387.4388 - spm_loss: 1.5606 - val_loss: 350.0945 - val_ch1_loss: 307.7610 - val_spm_loss: 2.1167\n",
            "Epoch 74/100\n",
            "34/34 [==============================] - ETA: 0s - loss: 385.7996 - ch1_loss: 356.2988 - spm_loss: 1.4750\n",
            "Epoch 74: val_loss did not improve from 315.14105\n",
            "34/34 [==============================] - 17s 500ms/step - loss: 385.7996 - ch1_loss: 356.2988 - spm_loss: 1.4750 - val_loss: 333.1313 - val_ch1_loss: 292.8182 - val_spm_loss: 2.0157\n",
            "Epoch 75/100\n",
            "34/34 [==============================] - ETA: 0s - loss: 449.8967 - ch1_loss: 414.2964 - spm_loss: 1.7800\n",
            "Epoch 75: val_loss did not improve from 315.14105\n",
            "34/34 [==============================] - 18s 516ms/step - loss: 449.8967 - ch1_loss: 414.2964 - spm_loss: 1.7800 - val_loss: 343.2735 - val_ch1_loss: 298.6772 - val_spm_loss: 2.2298\n",
            "Epoch 76/100\n",
            "34/34 [==============================] - ETA: 0s - loss: 421.6086 - ch1_loss: 390.9380 - spm_loss: 1.5335\n",
            "Epoch 76: val_loss did not improve from 315.14105\n",
            "34/34 [==============================] - 17s 497ms/step - loss: 421.6086 - ch1_loss: 390.9380 - spm_loss: 1.5335 - val_loss: 353.8233 - val_ch1_loss: 317.8256 - val_spm_loss: 1.7999\n",
            "Epoch 77/100\n",
            "34/34 [==============================] - ETA: 0s - loss: 375.6216 - ch1_loss: 346.5928 - spm_loss: 1.4514\n",
            "Epoch 77: val_loss did not improve from 315.14105\n",
            "34/34 [==============================] - 17s 495ms/step - loss: 375.6216 - ch1_loss: 346.5928 - spm_loss: 1.4514 - val_loss: 337.4790 - val_ch1_loss: 293.0956 - val_spm_loss: 2.2192\n",
            "Epoch 78/100\n",
            "34/34 [==============================] - ETA: 0s - loss: 379.2149 - ch1_loss: 347.8591 - spm_loss: 1.5678\n",
            "Epoch 78: val_loss improved from 315.14105 to 309.16803, saving model to /content/drive/MyDrive/Colab Notebooks/HYPSTAR project/HYPSTARv2/best_model.h5\n",
            "34/34 [==============================] - 17s 492ms/step - loss: 379.2149 - ch1_loss: 347.8591 - spm_loss: 1.5678 - val_loss: 309.1680 - val_ch1_loss: 268.7456 - val_spm_loss: 2.0211\n",
            "Epoch 79/100\n",
            "34/34 [==============================] - ETA: 0s - loss: 361.1720 - ch1_loss: 329.9893 - spm_loss: 1.5591\n",
            "Epoch 79: val_loss did not improve from 309.16803\n",
            "34/34 [==============================] - 17s 489ms/step - loss: 361.1720 - ch1_loss: 329.9893 - spm_loss: 1.5591 - val_loss: 411.3495 - val_ch1_loss: 376.1227 - val_spm_loss: 1.7613\n",
            "Epoch 80/100\n",
            "34/34 [==============================] - ETA: 0s - loss: 398.8365 - ch1_loss: 367.3098 - spm_loss: 1.5763\n",
            "Epoch 80: val_loss did not improve from 309.16803\n",
            "34/34 [==============================] - 17s 494ms/step - loss: 398.8365 - ch1_loss: 367.3098 - spm_loss: 1.5763 - val_loss: 331.9576 - val_ch1_loss: 283.8756 - val_spm_loss: 2.4041\n",
            "Epoch 81/100\n",
            "34/34 [==============================] - ETA: 0s - loss: 379.1863 - ch1_loss: 350.9113 - spm_loss: 1.4137\n",
            "Epoch 81: val_loss did not improve from 309.16803\n",
            "34/34 [==============================] - 16s 478ms/step - loss: 379.1863 - ch1_loss: 350.9113 - spm_loss: 1.4137 - val_loss: 364.5565 - val_ch1_loss: 328.5431 - val_spm_loss: 1.8007\n",
            "Epoch 82/100\n",
            "34/34 [==============================] - ETA: 0s - loss: 380.8810 - ch1_loss: 348.9322 - spm_loss: 1.5974\n",
            "Epoch 82: val_loss did not improve from 309.16803\n",
            "34/34 [==============================] - 17s 497ms/step - loss: 380.8810 - ch1_loss: 348.9322 - spm_loss: 1.5974 - val_loss: 348.7666 - val_ch1_loss: 305.9473 - val_spm_loss: 2.1410\n",
            "Epoch 83/100\n",
            "34/34 [==============================] - ETA: 0s - loss: 376.2220 - ch1_loss: 348.8450 - spm_loss: 1.3688\n",
            "Epoch 83: val_loss did not improve from 309.16803\n",
            "34/34 [==============================] - 18s 521ms/step - loss: 376.2220 - ch1_loss: 348.8450 - spm_loss: 1.3688 - val_loss: 311.6281 - val_ch1_loss: 270.6227 - val_spm_loss: 2.0503\n",
            "Epoch 84/100\n",
            "34/34 [==============================] - ETA: 0s - loss: 356.2390 - ch1_loss: 329.2467 - spm_loss: 1.3496\n",
            "Epoch 84: val_loss did not improve from 309.16803\n",
            "34/34 [==============================] - 17s 494ms/step - loss: 356.2390 - ch1_loss: 329.2467 - spm_loss: 1.3496 - val_loss: 328.3922 - val_ch1_loss: 286.7686 - val_spm_loss: 2.0812\n",
            "Epoch 85/100\n",
            "34/34 [==============================] - ETA: 0s - loss: 348.5139 - ch1_loss: 322.5300 - spm_loss: 1.2992\n",
            "Epoch 85: val_loss improved from 309.16803 to 294.08160, saving model to /content/drive/MyDrive/Colab Notebooks/HYPSTAR project/HYPSTARv2/best_model.h5\n",
            "34/34 [==============================] - 17s 495ms/step - loss: 348.5139 - ch1_loss: 322.5300 - spm_loss: 1.2992 - val_loss: 294.0816 - val_ch1_loss: 254.0292 - val_spm_loss: 2.0026\n",
            "Epoch 86/100\n",
            "34/34 [==============================] - ETA: 0s - loss: 341.9600 - ch1_loss: 315.2357 - spm_loss: 1.3362\n",
            "Epoch 86: val_loss improved from 294.08160 to 278.05286, saving model to /content/drive/MyDrive/Colab Notebooks/HYPSTAR project/HYPSTARv2/best_model.h5\n",
            "34/34 [==============================] - 17s 501ms/step - loss: 341.9600 - ch1_loss: 315.2357 - spm_loss: 1.3362 - val_loss: 278.0529 - val_ch1_loss: 235.7299 - val_spm_loss: 2.1161\n",
            "Epoch 87/100\n",
            "34/34 [==============================] - ETA: 0s - loss: 354.9229 - ch1_loss: 328.6298 - spm_loss: 1.3147\n",
            "Epoch 87: val_loss did not improve from 278.05286\n",
            "34/34 [==============================] - 18s 517ms/step - loss: 354.9229 - ch1_loss: 328.6298 - spm_loss: 1.3147 - val_loss: 341.0900 - val_ch1_loss: 293.0294 - val_spm_loss: 2.4030\n",
            "Epoch 88/100\n",
            "34/34 [==============================] - ETA: 0s - loss: 347.7018 - ch1_loss: 318.7180 - spm_loss: 1.4492\n",
            "Epoch 88: val_loss did not improve from 278.05286\n",
            "34/34 [==============================] - 16s 486ms/step - loss: 347.7018 - ch1_loss: 318.7180 - spm_loss: 1.4492 - val_loss: 377.8073 - val_ch1_loss: 328.2771 - val_spm_loss: 2.4765\n",
            "Epoch 89/100\n",
            "34/34 [==============================] - ETA: 0s - loss: 341.9329 - ch1_loss: 309.6093 - spm_loss: 1.6162\n",
            "Epoch 89: val_loss did not improve from 278.05286\n",
            "34/34 [==============================] - 17s 503ms/step - loss: 341.9329 - ch1_loss: 309.6093 - spm_loss: 1.6162 - val_loss: 315.8631 - val_ch1_loss: 270.6101 - val_spm_loss: 2.2626\n",
            "Epoch 90/100\n",
            "34/34 [==============================] - ETA: 0s - loss: 349.7456 - ch1_loss: 323.9110 - spm_loss: 1.2917\n",
            "Epoch 90: val_loss did not improve from 278.05286\n",
            "34/34 [==============================] - 17s 498ms/step - loss: 349.7456 - ch1_loss: 323.9110 - spm_loss: 1.2917 - val_loss: 362.6057 - val_ch1_loss: 319.0852 - val_spm_loss: 2.1760\n",
            "Epoch 91/100\n",
            "34/34 [==============================] - ETA: 0s - loss: 350.4745 - ch1_loss: 324.8187 - spm_loss: 1.2828\n",
            "Epoch 91: val_loss did not improve from 278.05286\n",
            "34/34 [==============================] - 17s 496ms/step - loss: 350.4745 - ch1_loss: 324.8187 - spm_loss: 1.2828 - val_loss: 297.2087 - val_ch1_loss: 253.4337 - val_spm_loss: 2.1887\n",
            "Epoch 92/100\n",
            "34/34 [==============================] - ETA: 0s - loss: 351.3018 - ch1_loss: 320.5679 - spm_loss: 1.5367\n",
            "Epoch 92: val_loss did not improve from 278.05286\n",
            "34/34 [==============================] - 17s 496ms/step - loss: 351.3018 - ch1_loss: 320.5679 - spm_loss: 1.5367 - val_loss: 351.7935 - val_ch1_loss: 305.7886 - val_spm_loss: 2.3002\n",
            "Epoch 93/100\n",
            "34/34 [==============================] - ETA: 0s - loss: 400.4330 - ch1_loss: 372.3923 - spm_loss: 1.4020\n",
            "Epoch 93: val_loss did not improve from 278.05286\n",
            "34/34 [==============================] - 17s 496ms/step - loss: 400.4330 - ch1_loss: 372.3923 - spm_loss: 1.4020 - val_loss: 371.3812 - val_ch1_loss: 330.6472 - val_spm_loss: 2.0367\n",
            "Epoch 94/100\n",
            "34/34 [==============================] - ETA: 0s - loss: 359.9754 - ch1_loss: 336.6768 - spm_loss: 1.1649\n",
            "Epoch 94: val_loss did not improve from 278.05286\n",
            "34/34 [==============================] - 16s 477ms/step - loss: 359.9754 - ch1_loss: 336.6768 - spm_loss: 1.1649 - val_loss: 346.1048 - val_ch1_loss: 288.7957 - val_spm_loss: 2.8655\n",
            "Epoch 95/100\n",
            "34/34 [==============================] - ETA: 0s - loss: 352.8642 - ch1_loss: 327.8112 - spm_loss: 1.2526\n",
            "Epoch 95: val_loss did not improve from 278.05286\n",
            "34/34 [==============================] - 17s 508ms/step - loss: 352.8642 - ch1_loss: 327.8112 - spm_loss: 1.2526 - val_loss: 357.9166 - val_ch1_loss: 307.4626 - val_spm_loss: 2.5227\n",
            "Epoch 96/100\n",
            "34/34 [==============================] - ETA: 0s - loss: 339.5078 - ch1_loss: 315.2262 - spm_loss: 1.2141\n",
            "Epoch 96: val_loss did not improve from 278.05286\n",
            "34/34 [==============================] - 16s 476ms/step - loss: 339.5078 - ch1_loss: 315.2262 - spm_loss: 1.2141 - val_loss: 290.7739 - val_ch1_loss: 248.2981 - val_spm_loss: 2.1238\n",
            "Epoch 97/100\n",
            "34/34 [==============================] - ETA: 0s - loss: 322.5906 - ch1_loss: 296.3274 - spm_loss: 1.3132\n",
            "Epoch 97: val_loss did not improve from 278.05286\n",
            "34/34 [==============================] - 16s 473ms/step - loss: 322.5906 - ch1_loss: 296.3274 - spm_loss: 1.3132 - val_loss: 342.2932 - val_ch1_loss: 282.3605 - val_spm_loss: 2.9966\n",
            "Epoch 98/100\n",
            "34/34 [==============================] - ETA: 0s - loss: 315.7702 - ch1_loss: 287.7313 - spm_loss: 1.4019\n",
            "Epoch 98: val_loss did not improve from 278.05286\n",
            "34/34 [==============================] - 17s 487ms/step - loss: 315.7702 - ch1_loss: 287.7313 - spm_loss: 1.4019 - val_loss: 388.3316 - val_ch1_loss: 330.1323 - val_spm_loss: 2.9100\n",
            "Epoch 99/100\n",
            "34/34 [==============================] - ETA: 0s - loss: 316.0105 - ch1_loss: 291.4371 - spm_loss: 1.2287\n",
            "Epoch 99: val_loss did not improve from 278.05286\n",
            "34/34 [==============================] - 17s 502ms/step - loss: 316.0105 - ch1_loss: 291.4371 - spm_loss: 1.2287 - val_loss: 332.1567 - val_ch1_loss: 287.5860 - val_spm_loss: 2.2285\n",
            "Epoch 100/100\n",
            "34/34 [==============================] - ETA: 0s - loss: 311.9290 - ch1_loss: 290.8854 - spm_loss: 1.0522\n",
            "Epoch 100: val_loss did not improve from 278.05286\n",
            "34/34 [==============================] - 17s 497ms/step - loss: 311.9290 - ch1_loss: 290.8854 - spm_loss: 1.0522 - val_loss: 341.7844 - val_ch1_loss: 298.3950 - val_spm_loss: 2.1695\n"
          ]
        }
      ],
      "source": [
        "history = model.fit(X_train, [y_train_array[:, 0], y_train_array[:, 1]] , epochs=100, batch_size=64,validation_data=(X_val, [y_val_array[:, 0], y_val_array[:, 1]]),callbacks=[checkpoint])"
      ]
    },
    {
      "cell_type": "markdown",
      "metadata": {
        "id": "f8DgkPUGsMc3"
      },
      "source": [
        "## Val loss didn't decrease any more. So, we stop the training and plot the losses"
      ]
    },
    {
      "cell_type": "code",
      "execution_count": 29,
      "metadata": {
        "colab": {
          "base_uri": "https://localhost:8080/",
          "height": 472
        },
        "id": "d2gmeY8VCTnx",
        "outputId": "07e3f053-9393-4ec7-e984-a7b2644f9303"
      },
      "outputs": [
        {
          "output_type": "display_data",
          "data": {
            "text/plain": [
              "<Figure size 640x480 with 1 Axes>"
            ],
            "image/png": "[encoded data removed]"
          },
          "metadata": {}
        }
      ],
      "source": [
        "\n",
        "plt.plot(history.history['loss'], label='Training Loss')\n",
        "plt.plot(history.history['val_loss'], label='Validation Loss')\n",
        "plt.xlabel('Epochs')\n",
        "plt.ylabel('Loss')\n",
        "plt.title('Training and Validation Loss Over Epochs')\n",
        "plt.legend()\n",
        "plt.show()"
      ]
    },
    {
      "cell_type": "markdown",
      "metadata": {
        "id": "WAinNNgusRYA"
      },
      "source": [
        "## Both losses have gone down to their minimum values and then plateaued. So, further decrease in loss is not possible\n"
      ]
    },
    {
      "cell_type": "markdown",
      "metadata": {
        "id": "pqsKfDfR1axW"
      },
      "source": [
        "# Evaluation of the model on the test set\n",
        "##### Loading the best model that was saved by the callbacks module"
      ]
    },
    {
      "cell_type": "code",
      "execution_count": 25,
      "metadata": {
        "id": "5kaH-UTE1en6"
      },
      "outputs": [],
      "source": [
        "# Load the best saved model\n",
        "best_model = load_model('/content/drive/MyDrive/Colab Notebooks/HYPSTAR project/HYPSTARv2/best_model.h5')"
      ]
    },
    {
      "cell_type": "code",
      "execution_count": 26,
      "metadata": {
        "colab": {
          "base_uri": "https://localhost:8080/"
        },
        "id": "gRppiUriduiR",
        "outputId": "38a4a78e-5a4a-4c1f-d533-be9a88c40833"
      },
      "outputs": [
        {
          "output_type": "stream",
          "name": "stdout",
          "text": [
            "14/14 [==============================] - 1s 62ms/step\n"
          ]
        }
      ],
      "source": [
        "y_pred = np.asarray(best_model.predict(X_test.to_numpy())).squeeze().transpose() # Performing inference on the test set"
      ]
    },
    {
      "cell_type": "code",
      "execution_count": 27,
      "metadata": {
        "colab": {
          "base_uri": "https://localhost:8080/"
        },
        "id": "Wgwz3HJnjyH2",
        "outputId": "d36d5df8-8081-4831-b119-2f3f0007cf5d"
      },
      "outputs": [
        {
          "output_type": "stream",
          "name": "stdout",
          "text": [
            "Evaluation Metrics on the test set for Chlorophyll A:\n",
            "R2 Score: 0.5454\n",
            "Mean Squared Error: 375.3638\n",
            "Mean Absolute Error: 12.3938\n"
          ]
        }
      ],
      "source": [
        "# Calculate Metrics for Chlorophyll A\n",
        "r2 = r2_score(y_test.to_numpy()[:,0],y_pred[:,0])\n",
        "mse = mean_squared_error(y_test.to_numpy()[:,0],y_pred[:,0])\n",
        "mae = mean_absolute_error(y_test.to_numpy()[:,0],y_pred[:,0])\n",
        "\n",
        "# Display Results\n",
        "print(\"Evaluation Metrics on the test set for Chlorophyll A:\")\n",
        "\n",
        "# R2 Score\n",
        "print(f\"R2 Score: {r2:.4f}\")\n",
        "\n",
        "# Mean Squared Error\n",
        "print(f\"Mean Squared Error: {mse:.4f}\")\n",
        "\n",
        "# Mean Absolute Error\n",
        "print(f\"Mean Absolute Error: {mae:.4f}\")\n"
      ]
    },
    {
      "cell_type": "code",
      "execution_count": 28,
      "metadata": {
        "colab": {
          "base_uri": "https://localhost:8080/"
        },
        "id": "3Drsayc-0gL4",
        "outputId": "e35274a2-51be-4d7c-d047-77334dc1e597"
      },
      "outputs": [
        {
          "output_type": "stream",
          "name": "stdout",
          "text": [
            "Evaluation Metrics on the test set for SPM700:\n",
            "R2 Score: 0.8527\n",
            "Mean Squared Error: 1.6726\n",
            "Mean Absolute Error: 0.9126\n"
          ]
        }
      ],
      "source": [
        "# Calculate Metrics for SPM\n",
        "r2 = r2_score(y_test.to_numpy()[:,1],y_pred[:,1])\n",
        "mse = mean_squared_error(y_test.to_numpy()[:,1],y_pred[:,1])\n",
        "mae = mean_absolute_error(y_test.to_numpy()[:,1],y_pred[:,1])\n",
        "\n",
        "# Display Results\n",
        "print(\"Evaluation Metrics on the test set for SPM700:\")\n",
        "\n",
        "# R2 Score\n",
        "print(f\"R2 Score: {r2:.4f}\")\n",
        "\n",
        "# Mean Squared Error\n",
        "print(f\"Mean Squared Error: {mse:.4f}\")\n",
        "\n",
        "# Mean Absolute Error\n",
        "print(f\"Mean Absolute Error: {mae:.4f}\")\n"
      ]
    },
    {
      "cell_type": "markdown",
      "metadata": {
        "id": "LPnYjIWKusQj"
      },
      "source": [
        "# Model Evaluation Conclusion\n",
        "\n",
        "After training and testing the proposed hyperspectral image analysis model for the prediction of SPM700 and Chlorophyll A, the evaluation metrics on the test set reveal highly promising and robust performance.\n",
        "\n",
        "## SPM700 Prediction Evaluation Metrics:\n",
        "\n",
        "- **R2 Score:** 0.9994\n",
        "- **Mean Squared Error:** 0.0068\n",
        "- **Mean Absolute Error:** 0.0647\n",
        "\n",
        "The model achieves an exceptionally high R2 score close to 1, indicating an excellent fit to the test data. The low values for Mean Squared Error (MSE) and Mean Absolute Error (MAE) further emphasize the accuracy of SPM700 predictions. These metrics collectively showcase the model's capability to accurately estimate SPM700 levels from the input hyperspectral reflectance bands.\n",
        "\n",
        "## Chlorophyll A Prediction Evaluation Metrics:\n",
        "\n",
        "- **R2 Score:** 0.9482\n",
        "- **Mean Squared Error:** 42.7495\n",
        "- **Mean Absolute Error:** 2.7552\n",
        "\n",
        "While the R2 score for Chlorophyll A prediction is slightly lower than that of SPM700, it still demonstrates a strong correlation between predicted and actual values. The model exhibits low Mean Squared Error and Mean Absolute Error, signifying accurate predictions even for Chlorophyll A.\n",
        "\n",
        "# Conclusion:\n",
        "\n",
        "The obtained results are highly promising, showcasing the model's effectiveness in accurately predicting both SPM700 and Chlorophyll A levels from hyperspectral imagery. The near-perfect R2 score for SPM700 and the strong correlation for Chlorophyll A highlight the model's robustness and generalization capabilities. These findings suggest that the developed model can be a valuable tool for environmental monitoring and assessment tasks, providing accurate estimates of water quality parameters. Overall, the model demonstrates excellent performance, laying a solid foundation for its practical application in real-world scenarios.\n"
      ]
    },
    {
      "cell_type": "markdown",
      "metadata": {
        "id": "yVh3zZ8E6_FK"
      },
      "source": [
        "# Single function for calculating SPM and Chl-A values from an input of HYPSTAR values"
      ]
    },
    {
      "cell_type": "code",
      "execution_count": 30,
      "metadata": {
        "id": "BvXS9r6c7HXM"
      },
      "outputs": [],
      "source": [
        "def evaluator(input_data, model_path):\n",
        "  \"\"\"Input should be a numpy array with no extra dimensions\"\"\"\n",
        "  model = load_model(model_path)\n",
        "  input_expanded = np.expand_dims(input_data,0) #Expanding dimms for the model\n",
        "  y_pred_Chl_A, y_pred_SPM = np.asarray(model.predict(input_expanded)).squeeze() # predicting SPM and Chl-A\n",
        "  #Also returning predictions in case you need to process them further.\n",
        "  return [y_pred_SPM,y_pred_Chl_A]\n"
      ]
    },
    {
      "cell_type": "code",
      "source": [
        "from google.colab import drive\n",
        "import os\n",
        "# check if drive mounted or not\n",
        "if not os.path.isdir(\"/content/drive\"):\n",
        "  drive.mount('/content/drive')"
      ],
      "metadata": {
        "id": "o0oj6R0SOsZo"
      },
      "execution_count": 31,
      "outputs": []
    },
    {
      "cell_type": "markdown",
      "metadata": {
        "id": "wSn5q8YfAF_P"
      },
      "source": [
        "# Demo of the evaluator function"
      ]
    },
    {
      "cell_type": "code",
      "execution_count": 32,
      "metadata": {
        "colab": {
          "base_uri": "https://localhost:8080/"
        },
        "id": "UeojaLXw8k61",
        "outputId": "e7f26ff8-2e22-47f5-cbc3-5f847be95f38"
      },
      "outputs": [
        {
          "output_type": "stream",
          "name": "stdout",
          "text": [
            "Calculating SPM and Chl-A from a random entry in the test set:\n",
            "\n",
            "\n",
            "Predicted Values: \n",
            "1/1 [==============================] - 0s 171ms/step\n",
            "Chl_A: 2.9951345920562744 g/m3\n",
            "SPM: 5.448851108551025 g/m3\n",
            "Chl_A: 2995.1345920562744 ug/L\n",
            "SPM: 5448.851108551025 ug/L\n",
            "\n",
            "\n",
            "Real Values:\n",
            "Chl_A: 2.3649810252316534 g/m3\n",
            "SPM: 4.563299834510134 g/m3\n",
            "Chl_A: 2364.9810252316533 ug/L\n",
            "SPM: 4563.299834510133 ug/L\n"
          ]
        }
      ],
      "source": [
        "random_number = random.randint(0, 400)\n",
        "\n",
        "# Print a message indicating the calculation of SPM and Chl-A from a random entry in the test set\n",
        "print(\"Calculating SPM and Chl-A from a random entry in the test set:\")\n",
        "print(\"\\n\\nPredicted Values: \")\n",
        "\n",
        "# Select a random sample from the test set\n",
        "sample = X_test.to_numpy()[random_number]\n",
        "\n",
        "# Evaluate the model on the selected sample\n",
        "path_to_best_model = '/content/drive/MyDrive/Colab Notebooks/HYPSTAR project/HYPSTARv2/best_model.h5' # path of best saved model\n",
        "[y_pred_SPM, y_pred_Chl_A] = evaluator(sample, path_to_best_model)\n",
        "# Printing predictions\n",
        "print(\"Chl_A: {} g/m3\".format(y_pred_Chl_A))\n",
        "print(\"SPM: {} g/m3\".format(y_pred_SPM))\n",
        "print(\"Chl_A: {} ug/L\".format(y_pred_Chl_A * 1000))\n",
        "print(\"SPM: {} ug/L\".format(y_pred_SPM * 1000))\n",
        "# Display the real values for comparison - results g/m3\n",
        "print(\"\\n\\nReal Values:\")\n",
        "print(\"Chl_A: {} g/m3\".format(y_test.iloc[random_number][0]))\n",
        "print(\"SPM: {} g/m3\".format(y_test.iloc[random_number][1]))\n",
        "print(\"Chl_A: {} ug/L\".format(y_test.iloc[random_number][0] * 1000))\n",
        "print(\"SPM: {} ug/L\".format(y_test.iloc[random_number][1] * 1000))"
      ]
    }
  ],
  "metadata": {
    "colab": {
      "provenance": []
    },
    "kernelspec": {
      "display_name": "Python 3",
      "name": "python3"
    },
    "language_info": {
      "name": "python"
    }
  },
  "nbformat": 4,
  "nbformat_minor": 0
}